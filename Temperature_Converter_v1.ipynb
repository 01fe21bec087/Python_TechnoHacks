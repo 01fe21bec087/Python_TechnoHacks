{
  "nbformat": 4,
  "nbformat_minor": 0,
  "metadata": {
    "colab": {
      "provenance": [],
      "authorship_tag": "ABX9TyOsoVCbulR+jazmJzkOUSZ6",
      "include_colab_link": true
    },
    "kernelspec": {
      "name": "python3",
      "display_name": "Python 3"
    },
    "language_info": {
      "name": "python"
    }
  },
  "cells": [
    {
      "cell_type": "markdown",
      "metadata": {
        "id": "view-in-github",
        "colab_type": "text"
      },
      "source": [
        "<a href=\"https://colab.research.google.com/github/01fe21bec087/Python_TechnoHacks/blob/main/Temperature_Converter_v1.ipynb\" target=\"_parent\"><img src=\"https://colab.research.google.com/assets/colab-badge.svg\" alt=\"Open In Colab\"/></a>"
      ]
    },
    {
      "cell_type": "code",
      "execution_count": 8,
      "metadata": {
        "colab": {
          "base_uri": "https://localhost:8080/"
        },
        "id": "Hg3gXUZEHOGQ",
        "outputId": "76c380a5-7ce5-49ae-d67c-16ad10cd0b5d"
      },
      "outputs": [
        {
          "output_type": "stream",
          "name": "stdout",
          "text": [
            "1: Convert Celsius to Farenheit \n",
            "2: Convert Farenheit to Celsius \n",
            "3: Exit \n",
            "   2\n",
            "Enter temperature value in Farenheit: 586\n",
            "307.77777777777777\n"
          ]
        }
      ],
      "source": [
        "def Farenheit_of(C):\n",
        "  return (C*9/5)+32\n",
        "\n",
        "def Celsius_of(F):\n",
        "  return (F-32)*5/9\n",
        "\n",
        "choice = int(input(\"1: Convert Celsius to Farenheit \\n2: Convert Farenheit to Celsius \\n3: Exit \\n   \"))\n",
        "if choice == 1:\n",
        "  C = int(input(\"Enter temperature value in Celcius: \"))\n",
        "  print(Farenheit_of(C))\n",
        "elif choice ==2:\n",
        "  F = int(input(\"Enter temperature value in Farenheit: \"))\n",
        "  print(Celsius_of(F))\n",
        "else:\n",
        "  exit()"
      ]
    }
  ]
}